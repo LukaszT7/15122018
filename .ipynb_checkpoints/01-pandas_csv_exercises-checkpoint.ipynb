{
 "cells": [
  {
   "cell_type": "markdown",
   "metadata": {},
   "source": [
    "# Pliki CSV"
   ]
  },
  {
   "cell_type": "code",
   "execution_count": 1,
   "metadata": {
    "collapsed": true
   },
   "outputs": [],
   "source": [
    "import numpy as np\n",
    "import pandas as pd\n",
    "import matplotlib.pyplot as plt"
   ]
  },
  {
   "cell_type": "markdown",
   "metadata": {},
   "source": [
    "## Zadanie 1\n",
    "\n",
    "W pliku `LaqnData_02.csv` znajdują się dane na temat jakości powietrza z punktu _Bexley - Slade Green_  w Londynie. Dane zostały pobrane ze strony projektu London Air (https://www.londonair.org.uk).\n",
    "\n",
    "Plik zawiera dane n.t.:\n",
    "\n",
    "- Prędkości wiatru (WSPD)\n",
    "- Kierunku wiatru (WDIR)\n",
    "- Stężenia tlenku węgla (CO)\n",
    "- Stężenia pyłu PM2.5 (FINE)\n",
    "- Stężenia pyłu PM10 (PM10)\n",
    "\n",
    "### Wykonaj następujące ćwieczenia\n",
    "\n",
    "1. Wczytaj zawartość pliku CSV do DataFrame.\n",
    "2. Przekonwertuj kolumnę z datą pomiaru na odpowiedni format.\n",
    "3. Zmień Indeksowanie DataFrame na kolumnę z datą.\n",
    "4. Usuń te cechy dla których nie istnieją żadne dane.\n",
    "5. Zmień strukturę DataFrame tak, aby dane n.t. wszystkich odnotowanych cech dla danej daty znajdowały się w jednym wierszu.\n",
    "    (aktualnie każda cecha jest przechowywana osobno - patrz kolumna `Species`)\n",
    "    - Zwróć uwagę, że każda cecha ma oznaczoną jednostkę oraz wiarygodność pomiaru (P - Provisional, R - Ratified)\n",
    "6. Uzupełnij brakujące wartości cech wartością 0 (zero)\n",
    "7. Uzupełnij brakujące wartości cech ich średnią z danego dnia."
   ]
  },
  {
   "cell_type": "code",
   "execution_count": null,
   "metadata": {
    "collapsed": true
   },
   "outputs": [],
   "source": []
  },
  {
   "cell_type": "markdown",
   "metadata": {},
   "source": [
    "## Zadanie 2\n",
    "\n",
    "W pliku `movies_metadata.csv` znajdują się dane n.t. filmów amerykańskich.\n",
    "\n",
    "### Wykonaj następujące ćwiczenia\n",
    "\n",
    "1. Wczytaj zawartość pliku CSV do DataFrame.\n",
    "2. Przekonwertuj kolumnę zawierającą rok produkcji na datę i stwórz na niej indeks.\n",
    "3. Zamień wartości kolumny `Plot_keywords` na listę.\n",
    "4. Zamień wartości kolumny `Genres` na osobne kolumny."
   ]
  },
  {
   "cell_type": "code",
   "execution_count": null,
   "metadata": {
    "collapsed": true
   },
   "outputs": [],
   "source": []
  }
 ],
 "metadata": {
  "kernelspec": {
   "display_name": "Python 3",
   "language": "python",
   "name": "python3"
  },
  "language_info": {
   "codemirror_mode": {
    "name": "ipython",
    "version": 3
   },
   "file_extension": ".py",
   "mimetype": "text/x-python",
   "name": "python",
   "nbconvert_exporter": "python",
   "pygments_lexer": "ipython3",
   "version": "3.6.0"
  }
 },
 "nbformat": 4,
 "nbformat_minor": 2
}
